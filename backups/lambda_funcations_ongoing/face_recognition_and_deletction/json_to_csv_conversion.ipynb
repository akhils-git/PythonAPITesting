{
  "nbformat": 4,
  "nbformat_minor": 0,
  "metadata": {
    "colab": {
      "provenance": []
    },
    "kernelspec": {
      "name": "python3",
      "display_name": "Python 3"
    },
    "language_info": {
      "name": "python"
    }
  },
  "cells": [
    {
      "cell_type": "code",
      "execution_count": 1,
      "metadata": {
        "id": "AUwrk-PvHXCE"
      },
      "outputs": [],
      "source": [
        "from google.colab import drive"
      ]
    },
    {
      "cell_type": "code",
      "source": [
        "drive.mount('/content/drive')"
      ],
      "metadata": {
        "colab": {
          "base_uri": "https://localhost:8080/"
        },
        "id": "IxJQVDv0HXkF",
        "outputId": "bfcd0fae-15f6-4070-e9f4-c0f71ccd40ab"
      },
      "execution_count": 2,
      "outputs": [
        {
          "output_type": "stream",
          "name": "stdout",
          "text": [
            "Mounted at /content/drive\n"
          ]
        }
      ]
    },
    {
      "cell_type": "code",
      "source": [],
      "metadata": {
        "id": "dynbfHGrHXsK"
      },
      "execution_count": null,
      "outputs": []
    },
    {
      "cell_type": "code",
      "source": [
        "import json\n",
        "import csv\n",
        "\n",
        "def json_to_csv(json_file_path):\n",
        "    with open(json_file_path, 'r') as json_file:\n",
        "        data = json.load(json_file)\n",
        "\n",
        "    csv_file_path = json_file_path[:-5] + '.csv'\n",
        "    \n",
        "    with open(csv_file_path, 'w', newline='', encoding='utf-8') as csv_file:\n",
        "        writer = csv.writer(csv_file)\n",
        "\n",
        "        header = []\n",
        "        for key in data[0].keys():\n",
        "            header.append(key)\n",
        "        writer.writerow(header)\n",
        "\n",
        "        for item in data:\n",
        "            row = []\n",
        "            for key in header:\n",
        "                row.append(item[key])\n",
        "            writer.writerow(row)\n",
        "\n",
        "    print(f'JSON file converted to CSV: {csv_file_path}')\n"
      ],
      "metadata": {
        "id": "tpkinCBRHXvO"
      },
      "execution_count": 3,
      "outputs": []
    },
    {
      "cell_type": "code",
      "source": [
        "json_to_csv('/content/drive/MyDrive/data science/Apps team works/VMS/test.json')"
      ],
      "metadata": {
        "colab": {
          "base_uri": "https://localhost:8080/"
        },
        "id": "Amz3WoWRH4xv",
        "outputId": "905b2cab-c783-419b-a09e-073efde7b27e"
      },
      "execution_count": 4,
      "outputs": [
        {
          "output_type": "stream",
          "name": "stdout",
          "text": [
            "JSON file converted to CSV: /content/drive/MyDrive/data science/Apps team works/VMS/test.csv\n"
          ]
        }
      ]
    }
  ]
}